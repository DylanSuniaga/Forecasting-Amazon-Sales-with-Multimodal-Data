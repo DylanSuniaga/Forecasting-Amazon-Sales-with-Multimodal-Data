{
 "cells": [
  {
   "cell_type": "markdown",
   "id": "ed88bc44",
   "metadata": {},
   "source": [
    "# Data Downloader\n",
    "The following notebook is a tentative notebook designed to debug the pipeline for data downloading."
   ]
  },
  {
   "cell_type": "code",
   "execution_count": 42,
   "id": "1f313c47",
   "metadata": {},
   "outputs": [
    {
     "data": {
      "text/plain": [
       "True"
      ]
     },
     "execution_count": 42,
     "metadata": {},
     "output_type": "execute_result"
    }
   ],
   "source": [
    "from dotenv import load_dotenv\n",
    "import os\n",
    "import time\n",
    "load_dotenv()"
   ]
  },
  {
   "cell_type": "code",
   "execution_count": 43,
   "id": "4b8cb52f",
   "metadata": {},
   "outputs": [],
   "source": [
    "# Credentials from Fesal\n",
    "CLIENT_ID = os.environ.get('CLIENT_ID')\n",
    "CLIENT_SECRET = os.environ.get('CLIENT_SECRET')\n",
    "REFRESH_TOKEN = os.environ.get('REFRESH_TOKEN')\n",
    "\n",
    "BASE_URL = \"https://sellingpartnerapi-na.amazon.com\" #for sp-api not access token\n",
    "\n",
    "MARKETPLACE_ID = \"ATVPDKIKX0DER\"\n"
   ]
  },
  {
   "cell_type": "code",
   "execution_count": 44,
   "id": "f5ce3912",
   "metadata": {},
   "outputs": [],
   "source": [
    "import requests\n",
    "\n",
    "LWA_TOKEN_URL = \"https://api.amazon.com/auth/o2/token\"\n",
    "def get_lwa_access_token(client_id, client_secret, refresh_token):\n",
    "    headers = {\n",
    "        \"Content-Type\": \"application/x-www-form-urlencoded;charset=UTF-8\",\n",
    "        \"Accept\": \"application/json\",\n",
    "    }\n",
    "    data = {\n",
    "        \"grant_type\": \"refresh_token\",\n",
    "        \"refresh_token\": refresh_token,\n",
    "        \"client_id\": client_id,\n",
    "        \"client_secret\": client_secret,\n",
    "    }\n",
    "    r = requests.post(LWA_TOKEN_URL, headers=headers, data=data, timeout=30)\n",
    "    if r.status_code != 200:\n",
    "        raise RuntimeError(f\"LWA {r.status_code}: {r.text[:400]}\")\n",
    "    return r.json()[\"access_token\"]\n"
   ]
  },
  {
   "cell_type": "code",
   "execution_count": 36,
   "id": "48ae9102",
   "metadata": {},
   "outputs": [
    {
     "ename": "RuntimeError",
     "evalue": "LWA 401: {\"error_description\":\"Client authentication failed\",\"error\":\"invalid_client\"}",
     "output_type": "error",
     "traceback": [
      "\u001b[0;31m---------------------------------------------------------------------------\u001b[0m",
      "\u001b[0;31mRuntimeError\u001b[0m                              Traceback (most recent call last)",
      "Cell \u001b[0;32mIn[36], line 1\u001b[0m\n\u001b[0;32m----> 1\u001b[0m \u001b[43mget_lwa_access_token\u001b[49m\u001b[43m(\u001b[49m\u001b[43mCLIENT_ID\u001b[49m\u001b[43m,\u001b[49m\u001b[43m \u001b[49m\u001b[43mCLIENT_SECRET\u001b[49m\u001b[43m,\u001b[49m\u001b[43m \u001b[49m\u001b[43mREFRESH_TOKEN\u001b[49m\u001b[43m)\u001b[49m\n",
      "Cell \u001b[0;32mIn[35], line 17\u001b[0m, in \u001b[0;36mget_lwa_access_token\u001b[0;34m(client_id, client_secret, refresh_token)\u001b[0m\n\u001b[1;32m     15\u001b[0m r \u001b[38;5;241m=\u001b[39m requests\u001b[38;5;241m.\u001b[39mpost(LWA_TOKEN_URL, headers\u001b[38;5;241m=\u001b[39mheaders, data\u001b[38;5;241m=\u001b[39mdata, timeout\u001b[38;5;241m=\u001b[39m\u001b[38;5;241m30\u001b[39m)\n\u001b[1;32m     16\u001b[0m \u001b[38;5;28;01mif\u001b[39;00m r\u001b[38;5;241m.\u001b[39mstatus_code \u001b[38;5;241m!=\u001b[39m \u001b[38;5;241m200\u001b[39m:\n\u001b[0;32m---> 17\u001b[0m     \u001b[38;5;28;01mraise\u001b[39;00m \u001b[38;5;167;01mRuntimeError\u001b[39;00m(\u001b[38;5;124mf\u001b[39m\u001b[38;5;124m\"\u001b[39m\u001b[38;5;124mLWA \u001b[39m\u001b[38;5;132;01m{\u001b[39;00mr\u001b[38;5;241m.\u001b[39mstatus_code\u001b[38;5;132;01m}\u001b[39;00m\u001b[38;5;124m: \u001b[39m\u001b[38;5;132;01m{\u001b[39;00mr\u001b[38;5;241m.\u001b[39mtext[:\u001b[38;5;241m400\u001b[39m]\u001b[38;5;132;01m}\u001b[39;00m\u001b[38;5;124m\"\u001b[39m)\n\u001b[1;32m     18\u001b[0m \u001b[38;5;28;01mreturn\u001b[39;00m r\u001b[38;5;241m.\u001b[39mjson()[\u001b[38;5;124m\"\u001b[39m\u001b[38;5;124maccess_token\u001b[39m\u001b[38;5;124m\"\u001b[39m]\n",
      "\u001b[0;31mRuntimeError\u001b[0m: LWA 401: {\"error_description\":\"Client authentication failed\",\"error\":\"invalid_client\"}"
     ]
    }
   ],
   "source": [
    "get_lwa_access_token(CLIENT_ID, CLIENT_SECRET, REFRESH_TOKEN)"
   ]
  },
  {
   "cell_type": "code",
   "execution_count": null,
   "id": "b16cabf8",
   "metadata": {},
   "outputs": [],
   "source": [
    "def search_catalog_items(keywords: List[str], page_size: int = 20, max_pages: int = 3) -> List[str]:\n",
    "    \"\"\"\n",
    "    Uses GET /catalog/2022-04-01/items with keywords to find candidate ASINs.\n",
    "    Note: increase max_pages/PageSize carefully; respect rate limits.\n",
    "    \"\"\"\n",
    "    asins: List[str] = []\n",
    "    # SP-API uses pagination tokens; we iterate per keyword.\n",
    "    for kw in keywords:\n",
    "        next_token = None\n",
    "        pages = 0\n",
    "        while pages < max_pages:\n",
    "            params = {\n",
    "                \"marketplaceIds\": MARKETPLACE_ID,\n",
    "                \"keywords\": kw,\n",
    "                \"pageSize\": page_size,\n",
    "                # for lightweight search we can request summaries\n",
    "                \"includedData\": \"summaries\",\n",
    "            }\n",
    "            if next_token:\n",
    "                params[\"paginationToken\"] = next_token\n",
    "            data = sp_get(\"/catalog/2022-04-01/items\", params)\n",
    "            items = data.get(\"items\", [])\n",
    "            asins.extend([it.get(\"asin\") for it in items if it.get(\"asin\")])\n",
    "            next_token = data.get(\"pagination\", {}).get(\"nextToken\")\n",
    "            pages += 1\n",
    "            if not next_token:\n",
    "                break\n",
    "            time.sleep(0.2)  # be polite\n",
    "    # make unique, preserve order\n",
    "    seen = set()\n",
    "    uniq = []\n",
    "    for a in asins:\n",
    "        if a and a not in seen:\n",
    "            seen.add(a)\n",
    "            uniq.append(a)\n",
    "    return uniq\n",
    "\n",
    "# example_asins = search_catalog_items([\"mechanical keyboard\", \"wireless mouse\"], page_size=20, max_pages=2)\n",
    "# example_asins[:10]\n"
   ]
  },
  {
   "cell_type": "code",
   "execution_count": null,
   "id": "a293f7d4",
   "metadata": {},
   "outputs": [],
   "source": [
    "def get_catalog_item(asin: str,\n",
    "                     included_data: str = \"summaries,images,attributes,classifications,salesRanks\") -> Dict[str, Any]:\n",
    "    \"\"\"\n",
    "    GET /catalog/2022-04-01/items/{asin}\n",
    "    included_data controls payload size. If you request too many datasets at once,\n",
    "    the API may return InvalidInput (seen in the wild) — trim the list if so.\n",
    "    \"\"\"\n",
    "    params = {\n",
    "        \"marketplaceIds\": MARKETPLACE_ID,\n",
    "        \"includedData\": included_data\n",
    "    }\n",
    "    return sp_get(f\"/catalog/2022-04-01/items/{asin}\", params)\n",
    "\n",
    "# Quick smoke test (replace with a known ASIN if you have one)\n",
    "# test = get_catalog_item(\"B08N5WRWNW\")\n",
    "# list(test.keys()), test.get(\"summaries\", [{}])[0].get(\"itemName\")\n"
   ]
  },
  {
   "cell_type": "code",
   "execution_count": null,
   "id": "7b5ee393",
   "metadata": {},
   "outputs": [],
   "source": [
    "import pandas as pd\n",
    "\n",
    "def extract_row(payload: Dict[str, Any], asin: str) -> Dict[str, Any]:\n",
    "    # Summaries\n",
    "    s = (payload.get(\"summaries\") or [{}])[0]\n",
    "    title = s.get(\"itemName\")\n",
    "    brand = s.get(\"brand\")\n",
    "    model = s.get(\"modelNumber\")\n",
    "    release_date = s.get(\"releaseDate\")\n",
    "\n",
    "    # Images\n",
    "    main_image = None\n",
    "    all_imgs = []\n",
    "    for by_mkt in (payload.get(\"images\") or []):\n",
    "        for im in by_mkt.get(\"images\", []):\n",
    "            if im.get(\"variant\") == \"MAIN\" and not main_image:\n",
    "                main_image = im.get(\"link\")\n",
    "            all_imgs.append({\n",
    "                \"variant\": im.get(\"variant\"),\n",
    "                \"url\": im.get(\"link\"),\n",
    "                \"w\": im.get(\"width\"),\n",
    "                \"h\": im.get(\"height\")\n",
    "            })\n",
    "\n",
    "    # Attributes → common text fields (varies by product type)\n",
    "    attrs = payload.get(\"attributes\") or {}\n",
    "    bullets = attrs.get(\"bullet_points\") or attrs.get(\"bullet_point\")\n",
    "    if isinstance(bullets, str):\n",
    "        bullets = [bullets]\n",
    "    description = None\n",
    "    for k in (\"product_description\",\"description\",\"long_description\",\"marketing_message\"):\n",
    "        v = attrs.get(k)\n",
    "        if isinstance(v, dict) and \"value\" in v:\n",
    "            v = v[\"value\"]\n",
    "        if v:\n",
    "            description = v\n",
    "            break\n",
    "\n",
    "    # Classifications (browse nodes)\n",
    "    nodes = []\n",
    "    for cls in (payload.get(\"classifications\") or []):\n",
    "        for c in cls.get(\"classifications\", []):\n",
    "            nodes.append({\"id\": c.get(\"classificationId\"), \"name\": c.get(\"displayName\")})\n",
    "\n",
    "    # Sales ranks (display group + classification)\n",
    "    ranks = []\n",
    "    for sr in (payload.get(\"salesRanks\") or []):\n",
    "        for g in (sr.get(\"displayGroupRanks\") or []):\n",
    "            ranks.append({\"title\": g.get(\"title\"), \"rank\": g.get(\"rank\"), \"link\": g.get(\"link\")})\n",
    "        for g in (sr.get(\"classificationRanks\") or []):\n",
    "            ranks.append({\"title\": g.get(\"title\"), \"rank\": g.get(\"rank\"), \"link\": g.get(\"link\")})\n",
    "\n",
    "    return {\n",
    "        \"asin\": asin,\n",
    "        \"title\": title,\n",
    "        \"brand\": brand,\n",
    "        \"model_number\": model,\n",
    "        \"release_date\": release_date,\n",
    "        \"main_image\": main_image,\n",
    "        \"image_list\": all_imgs,\n",
    "        \"bullets\": bullets,\n",
    "        \"description\": description,\n",
    "        \"browse_nodes\": nodes,\n",
    "        \"sales_ranks\": ranks\n",
    "    }\n",
    "\n",
    "def hydrate_asins(asins: List[str],\n",
    "                  included_data: str = \"summaries,images,attributes,classifications,salesRanks\",\n",
    "                  sleep_s: float = 0.2) -> pd.DataFrame:\n",
    "    rows = []\n",
    "    for a in asins:\n",
    "        try:\n",
    "            p = get_catalog_item(a, included_data=included_data)\n",
    "        except SPAPIError as e:\n",
    "            if \"InvalidInput\" in str(e):\n",
    "                p = get_catalog_item(a, included_data=\"summaries,images,attributes\")\n",
    "            else:\n",
    "                print(f\"[WARN] {a}: {e}\")\n",
    "                continue\n",
    "        rows.append(extract_row(p, a))\n",
    "        time.sleep(sleep_s)\n",
    "    df = pd.DataFrame(rows)\n",
    "    return df\n",
    "\n",
    "# sample_asins = search_catalog_items([\"mechanical keyboard\"], page_size=20, max_pages=1)\n",
    "# df = hydrate_asins(sample_asins[:10])\n",
    "# df.head(3)\n"
   ]
  }
 ],
 "metadata": {
  "kernelspec": {
   "display_name": "Python (amazon-forecast)",
   "language": "python",
   "name": "amazon-forecast"
  },
  "language_info": {
   "codemirror_mode": {
    "name": "ipython",
    "version": 3
   },
   "file_extension": ".py",
   "mimetype": "text/x-python",
   "name": "python",
   "nbconvert_exporter": "python",
   "pygments_lexer": "ipython3",
   "version": "3.10.18"
  }
 },
 "nbformat": 4,
 "nbformat_minor": 5
}
